{
 "cells": [
  {
   "cell_type": "code",
   "execution_count": null,
   "id": "upset-trinity",
   "metadata": {},
   "outputs": [],
   "source": [
    "class Restaurant():\n",
    "    \n",
    "    def __init__(self,restaurant_name,cuisine_type):\n",
    "        self.restaurant_name = restaurant_name\n",
    "        self.cuisine_type = cuisine_type\n",
    "        self.number_served = 0\n",
    "        \n",
    "    def describe_restaurant(self):\n",
    "        print(self.restaurant_name.title()+\" is a \"+self.cuisine_type+\" restaurant\")\n",
    "        \n",
    "    def open_restaurant(self):\n",
    "        print(self.restaurant_name.title()+\" is opening now\")\n",
    "    \n",
    "    def set_number_served(self,num):\n",
    "        self.number_served = num\n",
    "        \n",
    "    def increment_number_served(self,num):\n",
    "        self.number_served += num    \n",
    "        \n",
    "class IceCreamStand(Restaurant):\n",
    "\n",
    "    def __init__(self,restaurant_name,cuisine_type):\n",
    "        super().__init__(restaurant_name,cuisine_type)\n",
    "        self.flavor = Flavor()     # Important\n",
    "        \n",
    "class Flavor():\n",
    "    def __init__(self):\n",
    "        self.flavors = [\"Vanilia\",\"Choclate\",\"Strewbrew\"]\n",
    "        \n",
    "    def show_flavors(self):\n",
    "        for flavor in self.flavors:\n",
    "            print(flavor)"
   ]
  }
 ],
 "metadata": {
  "kernelspec": {
   "display_name": "Python 3",
   "language": "python",
   "name": "python3"
  },
  "language_info": {
   "codemirror_mode": {
    "name": "ipython",
    "version": 3
   },
   "file_extension": ".py",
   "mimetype": "text/x-python",
   "name": "python",
   "nbconvert_exporter": "python",
   "pygments_lexer": "ipython3",
   "version": "3.8.8"
  }
 },
 "nbformat": 4,
 "nbformat_minor": 5
}
