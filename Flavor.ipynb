{
 "cells": [
  {
   "cell_type": "code",
   "execution_count": null,
   "id": "enclosed-assumption",
   "metadata": {},
   "outputs": [],
   "source": [
    "class Flavor():\n",
    "    def __init__(self):\n",
    "        self.flavors = [\"Vanilia\",\"Choclate\",\"Strewbrew\"]\n",
    "        \n",
    "    def show_flavors(self):\n",
    "        for flavor in self.flavors:\n",
    "            print(flavor)"
   ]
  }
 ],
 "metadata": {
  "kernelspec": {
   "display_name": "Python 3",
   "language": "python",
   "name": "python3"
  },
  "language_info": {
   "codemirror_mode": {
    "name": "ipython",
    "version": 3
   },
   "file_extension": ".py",
   "mimetype": "text/x-python",
   "name": "python",
   "nbconvert_exporter": "python",
   "pygments_lexer": "ipython3",
   "version": "3.8.8"
  }
 },
 "nbformat": 4,
 "nbformat_minor": 5
}
