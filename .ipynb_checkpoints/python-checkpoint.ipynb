{
 "cells": [
  {
   "cell_type": "code",
   "execution_count": 7,
   "id": "amber-berkeley",
   "metadata": {},
   "outputs": [
    {
     "data": {
      "text/plain": [
       "'python'"
      ]
     },
     "execution_count": 7,
     "metadata": {},
     "output_type": "execute_result"
    }
   ],
   "source": [
    "favorite_language = 'python '\n",
    "favorite_language.rstrip()"
   ]
  },
  {
   "cell_type": "code",
   "execution_count": null,
   "id": "painful-airplane",
   "metadata": {},
   "outputs": [],
   "source": []
  },
  {
   "cell_type": "code",
   "execution_count": null,
   "id": "looking-namibia",
   "metadata": {},
   "outputs": [],
   "source": []
  },
  {
   "cell_type": "code",
   "execution_count": null,
   "id": "unnecessary-johnston",
   "metadata": {},
   "outputs": [],
   "source": []
  },
  {
   "cell_type": "code",
   "execution_count": 2,
   "id": "acknowledged-berkeley",
   "metadata": {},
   "outputs": [
    {
     "name": "stdout",
     "output_type": "stream",
     "text": [
      "On branch master\n",
      "Changes not staged for commit:\n",
      "  (use \"git add <file>...\" to update what will be committed)\n",
      "  (use \"git restore <file>...\" to discard changes in working directory)\n",
      "\t\u001b[31mmodified:   .ipynb_checkpoints/python-checkpoint.ipynb\u001b[m\n",
      "\t\u001b[31mmodified:   python.ipynb\u001b[m\n",
      "\n",
      "no changes added to commit (use \"git add\" and/or \"git commit -a\")\n",
      "[master d6460b6] Extended\n",
      " 2 files changed, 33 insertions(+), 13 deletions(-)\n",
      "fatal: The current branch master has no upstream branch.\n",
      "To push the current branch and set the remote as upstream, use\n",
      "\n",
      "    git push --set-upstream origin master\n",
      "\n"
     ]
    }
   ],
   "source": [
    "!git status\n",
    "!git commit -am \"Extended\"\n",
    "!git push"
   ]
  },
  {
   "cell_type": "code",
   "execution_count": 8,
   "id": "talented-aspect",
   "metadata": {},
   "outputs": [
    {
     "name": "stdout",
     "output_type": "stream",
     "text": [
      "test\n"
     ]
    }
   ],
   "source": [
    "print(\"test\")"
   ]
  },
  {
   "cell_type": "code",
   "execution_count": 15,
   "id": "cellular-baking",
   "metadata": {},
   "outputs": [
    {
     "name": "stdout",
     "output_type": "stream",
     "text": [
      "Welcome Jim\n"
     ]
    }
   ],
   "source": [
    "name = \" jim\\n\\t\"\n",
    "print(\"Welcome \"+name.strip().title())"
   ]
  },
  {
   "cell_type": "code",
   "execution_count": 102,
   "id": "congressional-classroom",
   "metadata": {},
   "outputs": [
    {
     "name": "stdout",
     "output_type": "stream",
     "text": [
      "a\n",
      "C\n",
      "b\n"
     ]
    }
   ],
   "source": [
    "names = ['a','C','b']\n",
    "for name in names:\n",
    "    print(name)\n",
    "\n"
   ]
  },
  {
   "cell_type": "code",
   "execution_count": 113,
   "id": "studied-powell",
   "metadata": {},
   "outputs": [
    {
     "name": "stdout",
     "output_type": "stream",
     "text": [
      "[1, 27, 3125, 823543, 387420489]\n",
      "1\n",
      "388247185\n"
     ]
    }
   ],
   "source": [
    "squares = [value ** value for value in range(1,11,2)]\n",
    "\n",
    "print(squares)\n",
    "print(min(squares))\n",
    "print(sum(squares))"
   ]
  },
  {
   "cell_type": "code",
   "execution_count": 133,
   "id": "national-doctrine",
   "metadata": {},
   "outputs": [
    {
     "name": "stdout",
     "output_type": "stream",
     "text": [
      "27\n",
      "216\n",
      "729\n",
      "1728\n",
      "3375\n",
      "5832\n",
      "9261\n",
      "13824\n",
      "19683\n",
      "27000\n"
     ]
    }
   ],
   "source": [
    "squares = [value ** 3 for value in range(3,31,3)]\n",
    "new = squares[:]\n",
    "squares.insert(2,\"3\")\n",
    "for num in new:\n",
    "    print(num)"
   ]
  },
  {
   "cell_type": "code",
   "execution_count": 15,
   "id": "amino-picture",
   "metadata": {},
   "outputs": [
    {
     "name": "stdout",
     "output_type": "stream",
     "text": [
      "1\n",
      "3\n",
      "4\n",
      "<generator object <genexpr> at 0x7fa494e46e40>\n"
     ]
    }
   ],
   "source": [
    "dim = (1,2,3)\n",
    "dim\n",
    "dim = (1,3,4)\n",
    "for v in dim :\n",
    "    print(v)\n",
    "print(value for value in range(1,10))"
   ]
  },
  {
   "cell_type": "code",
   "execution_count": 42,
   "id": "suburban-replica",
   "metadata": {},
   "outputs": [
    {
     "name": "stdout",
     "output_type": "stream",
     "text": [
      "a Same\n",
      "b Same\n"
     ]
    }
   ],
   "source": [
    "Login = \"Admin\"\n",
    "current_users = [\"Admin\",\"A\",\"b\",\"c\"]\n",
    "new_users = [\"a\",\"b\",\"d\",\"e\"]\n",
    "for nuser in new_users:\n",
    "    if nuser.lower() in (var.lower() for var in current_users):  #列表解析非常有用\n",
    "        print(nuser + \" Same\")"
   ]
  },
  {
   "cell_type": "code",
   "execution_count": 70,
   "id": "auburn-muslim",
   "metadata": {},
   "outputs": [
    {
     "name": "stdout",
     "output_type": "stream",
     "text": [
      "Value: Blue\n",
      "\n",
      "Value: 15\n",
      "\n",
      "Value: Male\n",
      "\n",
      "Value: Jim\n",
      "\n"
     ]
    }
   ],
   "source": [
    "Jim = {\"Name\":\"Jim\",\"Sex\":\"Male\",\"Age\":15,\"Num\":15}\n",
    "Jim[\"Team\"]=\"Blue\"\n",
    "for v in set(Jim.values()):\n",
    "   \n",
    "    print(\"Value: \"+ str(v) + \"\\n\")"
   ]
  },
  {
   "cell_type": "code",
   "execution_count": 83,
   "id": "liberal-reunion",
   "metadata": {},
   "outputs": [
    {
     "name": "stdout",
     "output_type": "stream",
     "text": [
      "Thank you A\n",
      "Thank you B\n",
      "Thank you C\n",
      "Hope you join my AN, D\n"
     ]
    }
   ],
   "source": [
    "AN = {\n",
    "    \"A\":\"Yes\",\n",
    "    \"B\":\"No\",\n",
    "    \"C\":\"Yes\"\n",
    "    }\n",
    "Users = [\"A\",\"B\",\"C\",\"D\"]\n",
    "for User in Users:\n",
    "    if User in (ANU for ANU in AN.keys()):\n",
    "        print(\"Thank you \"+User)\n",
    "    else:\n",
    "        print(\"Hope you join my AN, \"+User)"
   ]
  },
  {
   "cell_type": "code",
   "execution_count": null,
   "id": "spatial-florence",
   "metadata": {},
   "outputs": [],
   "source": []
  },
  {
   "cell_type": "code",
   "execution_count": 96,
   "id": "reflected-devil",
   "metadata": {},
   "outputs": [
    {
     "name": "stdout",
     "output_type": "stream",
     "text": [
      "{'color': 'yellow', 'points': 5, 'speed': 'slow'}\n",
      "{'color': 'yellow', 'points': 5, 'speed': 'slow'}\n",
      "{'color': 'yellow', 'points': 5, 'speed': 'slow'}\n",
      "{'color': 'green', 'points': 5, 'speed': 'slow'}\n",
      "{'color': 'green', 'points': 5, 'speed': 'slow'}\n",
      "{'color': 'green', 'points': 5, 'speed': 'slow'}\n",
      "{'color': 'green', 'points': 5, 'speed': 'slow'}\n",
      "{'color': 'green', 'points': 5, 'speed': 'slow'}\n",
      "{'color': 'green', 'points': 5, 'speed': 'slow'}\n",
      "{'color': 'green', 'points': 5, 'speed': 'slow'}\n",
      "{'color': 'green', 'points': 5, 'speed': 'slow'}\n",
      "{'color': 'green', 'points': 5, 'speed': 'slow'}\n",
      "{'color': 'green', 'points': 5, 'speed': 'slow'}\n",
      "{'color': 'green', 'points': 5, 'speed': 'slow'}\n",
      "{'color': 'green', 'points': 5, 'speed': 'slow'}\n",
      "{'color': 'green', 'points': 5, 'speed': 'slow'}\n",
      "{'color': 'green', 'points': 5, 'speed': 'slow'}\n",
      "{'color': 'green', 'points': 5, 'speed': 'slow'}\n",
      "{'color': 'green', 'points': 5, 'speed': 'slow'}\n",
      "{'color': 'green', 'points': 5, 'speed': 'slow'}\n",
      "{'color': 'green', 'points': 5, 'speed': 'slow'}\n",
      "{'color': 'green', 'points': 5, 'speed': 'slow'}\n",
      "{'color': 'green', 'points': 5, 'speed': 'slow'}\n",
      "{'color': 'green', 'points': 5, 'speed': 'slow'}\n",
      "{'color': 'green', 'points': 5, 'speed': 'slow'}\n",
      "{'color': 'green', 'points': 5, 'speed': 'slow'}\n",
      "{'color': 'green', 'points': 5, 'speed': 'slow'}\n",
      "{'color': 'green', 'points': 5, 'speed': 'slow'}\n",
      "{'color': 'green', 'points': 5, 'speed': 'slow'}\n",
      "{'color': 'green', 'points': 5, 'speed': 'slow'}\n",
      "30\n"
     ]
    }
   ],
   "source": [
    "aliens = []\n",
    "for alien_number in range(30):\n",
    "    new_alien = {\"color\":\"green\",\"points\":5,\"speed\":\"slow\"}\n",
    "    aliens.append(new_alien)\n",
    "\n",
    "for alien in aliens[0:3]:\n",
    "    if alien[\"color\"] == \"green\":\n",
    "        alien[\"color\"] = \"yellow\"\n",
    "\n",
    "for alien in aliens:\n",
    "    print(alien)\n",
    "\n",
    "print(len(aliens))"
   ]
  },
  {
   "cell_type": "code",
   "execution_count": 115,
   "id": "caroline-tractor",
   "metadata": {},
   "outputs": [
    {
     "name": "stdout",
     "output_type": "stream",
     "text": [
      "Jen's favorite lang is \n",
      "\tPython\n",
      "\tRuby\n",
      "Sarah's favorite lang is \n",
      "\tC\n"
     ]
    }
   ],
   "source": [
    "favorite_languages ={\n",
    "    'jen':[\"python\",\"ruby\"],\n",
    "    \"sarah\":[\"c\"]\n",
    "}\n",
    "\n",
    "for name,lang in favorite_languages.items():\n",
    "    print(name.title()+\"'s favorite lang is \")\n",
    "    for lan in lang:\n",
    "        print(\"\\t\"+lan.title())\n",
    "    "
   ]
  },
  {
   "cell_type": "code",
   "execution_count": 126,
   "id": "living-clause",
   "metadata": {},
   "outputs": [
    {
     "name": "stdout",
     "output_type": "stream",
     "text": [
      "Username: Jim\n",
      "\tName: Jim einstein\n",
      "\tLocation: China\n",
      "Username: Tom\n",
      "\tName: Tom curie\n",
      "\tLocation: Japan\n"
     ]
    }
   ],
   "source": [
    "users = {\n",
    "    \"Jim\":{\n",
    "        \"first\":\"Jim\",\n",
    "        \"last\":\"einstein\",\n",
    "        \"location\":\"China\"\n",
    "    },\n",
    "    \n",
    "    \"Tom\":{\n",
    "        \"first\":\"Tom\",\n",
    "        \"last\":\"curie\",\n",
    "        \"location\":\"Japan\"\n",
    "    }\n",
    "}\n",
    "\n",
    "for name,info in users.items():\n",
    "    print(\"Username: \"+name)\n",
    "    print(\"\\tName: \"+info[\"first\"]+\" \"+info[\"last\"]+\n",
    "          \"\\n\\tLocation: \"+info[\"location\"])\n",
    "    "
   ]
  },
  {
   "cell_type": "code",
   "execution_count": 130,
   "id": "opposed-public",
   "metadata": {},
   "outputs": [
    {
     "name": "stdout",
     "output_type": "stream",
     "text": [
      "Tell\n",
      "me\n",
      "3\n",
      "4\n"
     ]
    }
   ],
   "source": [
    "tips = \"Tell\"\n",
    "tips += \"\\nme\\n\"\n",
    "message = int(input(tips))\n",
    "message += 1\n",
    "print(message)"
   ]
  },
  {
   "cell_type": "code",
   "execution_count": 139,
   "id": "ignored-chest",
   "metadata": {},
   "outputs": [
    {
     "name": "stdout",
     "output_type": "stream",
     "text": [
      "fe\n",
      "fe\n",
      "quit\n"
     ]
    }
   ],
   "source": [
    "message = \"\"\n",
    "while True:\n",
    "    message = input()\n",
    "    if message != \"quit\":\n",
    "        print(message)\n",
    "    else:\n",
    "        break"
   ]
  },
  {
   "cell_type": "code",
   "execution_count": 146,
   "id": "growing-general",
   "metadata": {},
   "outputs": [
    {
     "name": "stdout",
     "output_type": "stream",
     "text": [
      "Please add your topppingsquit\n",
      "[]\n"
     ]
    }
   ],
   "source": [
    "toppings = []\n",
    "Switch = True\n",
    "while Switch:\n",
    "    top = input(\"Please add your topppings\")\n",
    "    if top != \"quit\":\n",
    "        toppings.append(top)\n",
    "    else:\n",
    "        break\n",
    "\n",
    "print(toppings)\n",
    "    "
   ]
  },
  {
   "cell_type": "code",
   "execution_count": 152,
   "id": "scenic-perception",
   "metadata": {},
   "outputs": [
    {
     "name": "stdout",
     "output_type": "stream",
     "text": [
      "b\n",
      "a\n"
     ]
    }
   ],
   "source": [
    "un = [\"a\",\"b\"]\n",
    "new = []\n",
    "\n",
    "while un:\n",
    "    \n",
    "    new.append(un.pop())\n",
    "    \n",
    "for user in new:\n",
    "    print(user)"
   ]
  },
  {
   "cell_type": "code",
   "execution_count": 153,
   "id": "arctic-bennett",
   "metadata": {},
   "outputs": [
    {
     "name": "stdout",
     "output_type": "stream",
     "text": [
      "b\n"
     ]
    }
   ],
   "source": [
    "un = [\"a\",\"b\",\"a\"]\n",
    "new = []\n",
    "\n",
    "while \"a\" in un:\n",
    "    \n",
    "    un.remove(\"a\")\n",
    "    \n",
    "for user in un:\n",
    "    print(user)"
   ]
  },
  {
   "cell_type": "code",
   "execution_count": 157,
   "id": "involved-nursing",
   "metadata": {},
   "outputs": [
    {
     "name": "stdout",
     "output_type": "stream",
     "text": [
      "What your name ?Jim\n",
      "Which place do you want to visit ?China\n",
      "Would you like to let another person respond?yes\n",
      "What your name ?Tom\n",
      "Which place do you want to visit ?Japan\n",
      "Would you like to let another person respond?no\n",
      "Jim wants to go visit China\n",
      "Tom wants to go visit Japan\n"
     ]
    }
   ],
   "source": [
    "questionnaire = {}\n",
    "\n",
    "cont = True\n",
    "while cont:\n",
    "    name = input(\"What your name ?\")\n",
    "    place = input(\"Which place do you want to visit ?\")\n",
    "    \n",
    "    questionnaire[name] = place \n",
    "    \n",
    "    if (input(\"Would you like to let another person respond?\") == \"no\"):\n",
    "        cont = False\n",
    "        #TODO \n",
    "for name,place in questionnaire.items():\n",
    "    print(name +\" wants to go visit \"+place )\n",
    "        "
   ]
  },
  {
   "cell_type": "code",
   "execution_count": 14,
   "id": "documented-latin",
   "metadata": {},
   "outputs": [
    {
     "name": "stdout",
     "output_type": "stream",
     "text": [
      "hello TOM Ball\n"
     ]
    }
   ],
   "source": [
    "def greet_user(username,thing = \"Ball\"):\n",
    "    print(\"hello \"+ username+\" \"+thing)\n",
    "    \n",
    "greet_user( \"TOM\")"
   ]
  },
  {
   "cell_type": "code",
   "execution_count": 63,
   "id": "spiritual-frequency",
   "metadata": {},
   "outputs": [
    {
     "name": "stdout",
     "output_type": "stream",
     "text": [
      "Jimi Hendrix is 23 years old\n",
      "Tom Hooker\n"
     ]
    }
   ],
   "source": [
    "list = []\n",
    "\n",
    "def build_person(first_name,last_name,age=\"\"):\n",
    "    if age:\n",
    "        person = {\"first\":first_name.title(),\"last\":last_name.title(),\"age\":age}\n",
    "    else:\n",
    "        person = {\"first\":first_name.title(),\"last\":last_name.title()}\n",
    "    list.append(person)\n",
    "    \n",
    "build_person(\"jimi\",\"hendrix\",23)\n",
    "build_person(\"tom\",\"hooker\")\n",
    "\n",
    "for persondic in list:\n",
    "    \n",
    "    if \"age\" in persondic:    #!!!!!!!!!!!!! Use \"in\"\n",
    "        print(persondic[\"first\"]+\" \"+persondic[\"last\"]+\" is \" +str(persondic[\"age\"]) + \" years old\")\n",
    "    else:\n",
    "        print(persondic[\"first\"]+\" \"+persondic[\"last\"])"
   ]
  },
  {
   "cell_type": "code",
   "execution_count": 93,
   "id": "fleet-uganda",
   "metadata": {},
   "outputs": [
    {
     "name": "stdout",
     "output_type": "stream",
     "text": [
      "Tom\n",
      "Bob\n",
      "Jim\n",
      "the Great Tom\n",
      "the Great Bob\n",
      "the Great Jim\n"
     ]
    }
   ],
   "source": [
    "def show_magicians(magics):\n",
    "    for magician in magics:\n",
    "        print(magician)\n",
    "        \n",
    "def make_great(magics):\n",
    "    for i in range(0,len(magics)):\n",
    "        magics[i] = \"the Great \"+ magics[i]\n",
    "    return magics\n",
    "magicians = [\"Tom\",\"Bob\",\"Jim\"]\n",
    "magics = make_great(magicians[:])\n",
    "show_magicians(magicians)\n",
    "show_magicians(magics)\n",
    "\n"
   ]
  },
  {
   "cell_type": "code",
   "execution_count": 94,
   "id": "signed-darwin",
   "metadata": {},
   "outputs": [
    {
     "name": "stdout",
     "output_type": "stream",
     "text": [
      "Tom\n",
      "Bob\n",
      "Jim\n",
      "the Great Tom\n",
      "the Great Bob\n",
      "the Great Jim\n"
     ]
    }
   ],
   "source": [
    "def show_magicians(*magics):   #相当于指针\n",
    "    for magic in magics:\n",
    "        for magician in magic:\n",
    "            print(magician)\n",
    "        \n",
    "def make_great(magics):\n",
    "    for i in range(0,len(magics)):\n",
    "        magics[i] = \"the Great \"+ magics[i]\n",
    "    return magics\n",
    "magicians = [\"Tom\",\"Bob\",\"Jim\"]\n",
    "magics = make_great(magicians[:])\n",
    "show_magicians(magicians)\n",
    "show_magicians(magics)\n",
    "\n"
   ]
  },
  {
   "cell_type": "code",
   "execution_count": 99,
   "id": "relative-intention",
   "metadata": {},
   "outputs": [
    {
     "name": "stdout",
     "output_type": "stream",
     "text": [
      "-a\n",
      "\n",
      "\n",
      "-a\n",
      "-b\n",
      "\n",
      "\n"
     ]
    }
   ],
   "source": [
    "def pizza(*toppings):\n",
    "    for topping in toppings:\n",
    "        print(\"-\"+topping)\n",
    "    print(\"\\n\")\n",
    "pizza(\"a\")\n",
    "pizza(\"a\",\"b\")"
   ]
  },
  {
   "cell_type": "code",
   "execution_count": 111,
   "id": "agricultural-mobile",
   "metadata": {},
   "outputs": [
    {
     "name": "stdout",
     "output_type": "stream",
     "text": [
      "[{'first_name': 'albert', 'last_name': 'einstein', 'location': 'princeton', 'field': 'physics'}, {'first_name': 'Smith', 'last_name': 'Jim', 'location': 'Japan', 'field': 'IT'}]\n"
     ]
    }
   ],
   "source": [
    "list = []\n",
    "def build_profile(first,last,**user_info):\n",
    "    profile={}\n",
    "    profile[\"first_name\"] = first\n",
    "    profile[\"last_name\"] = last\n",
    "    for key,value in user_info.items():\n",
    "        profile[key] = value\n",
    "    return profile\n",
    "\n",
    "\n",
    "user_profile = build_profile(\"albert\",\"einstein\",\n",
    "                            location = \"princeton\",\n",
    "                            field = \"physics\")\n",
    "\n",
    "my_profile = build_profile(\"Smith\",\"Jim\",\n",
    "                          location=\"Japan\",\n",
    "                          field = \"IT\")\n",
    "\n",
    "list.append(user_profile)\n",
    "list.append(my_profile)\n",
    "print(list)"
   ]
  },
  {
   "cell_type": "code",
   "execution_count": 114,
   "id": "standard-banana",
   "metadata": {},
   "outputs": [
    {
     "name": "stdout",
     "output_type": "stream",
     "text": [
      "{'maker': 'subaru', 'serial': 'outback', 'color': 'blue', 'tow_package': True}\n"
     ]
    }
   ],
   "source": [
    "def make_car(maker,serial,**info):\n",
    "    car = {}\n",
    "    car = {\n",
    "        \"maker\":maker,\n",
    "        \"serial\":serial,\n",
    "    }\n",
    "    for k,v in info.items():\n",
    "            car[k] = v  \n",
    "    return car\n",
    "    \n",
    "car = make_car(\"subaru\",\"outback\",color=\"blue\",tow_package=True)\n",
    "print(car)"
   ]
  },
  {
   "cell_type": "code",
   "execution_count": 119,
   "id": "shared-monday",
   "metadata": {},
   "outputs": [
    {
     "data": {
      "text/plain": [
       "'jim'"
      ]
     },
     "execution_count": 119,
     "metadata": {},
     "output_type": "execute_result"
    }
   ],
   "source": [
    "class Dog():\n",
    "    \n",
    "    def __init__(self,name,age):\n",
    "        self.name = name\n",
    "        self.age = age\n",
    "        \n",
    "    def sit(self):\n",
    "        print(self.name.title()+\" is now sitting\")\n",
    "        \n",
    "    def roll_over(self):\n",
    "        print(self.name.title()+\" rolled over\")\n",
    "        \n",
    "my_dog = Dog(\"jim\",5)\n",
    "my_dog.name"
   ]
  },
  {
   "cell_type": "code",
   "execution_count": 1,
   "id": "overall-royal",
   "metadata": {},
   "outputs": [
    {
     "name": "stdout",
     "output_type": "stream",
     "text": [
      "Vanilia\n",
      "Choclate\n",
      "Strewbrew\n"
     ]
    }
   ],
   "source": [
    "from Restaurant import Restaurant,IceCreamStand,Flavor\n",
    "\n",
    "ice_stand = IceCreamStand(\"Jim Ice\",\"IceCream\")\n",
    "ice_stand.flavor = Flavor() \n",
    "ice_stand.flavor.show_flavors()"
   ]
  },
  {
   "cell_type": "code",
   "execution_count": 2,
   "id": "antique-airport",
   "metadata": {},
   "outputs": [
    {
     "name": "stdout",
     "output_type": "stream",
     "text": [
      "1 C\n",
      "2 Python\n",
      "3 Java\n"
     ]
    }
   ],
   "source": [
    "from collections import OrderedDict\n",
    "\n",
    "lang = OrderedDict()\n",
    "lang[\"1\"] = \"C\"\n",
    "lang[\"2\"] = \"Python\"\n",
    "lang[\"3\"] = \"Java\"\n",
    "\n",
    "for name,lang in lang.items():\n",
    "    print(name+\" \"+lang)"
   ]
  },
  {
   "cell_type": "code",
   "execution_count": 36,
   "id": "unlimited-content",
   "metadata": {
    "scrolled": true
   },
   "outputs": [
    {
     "name": "stdout",
     "output_type": "stream",
     "text": [
      "13\n",
      "5\n",
      "11\n",
      "4\n",
      "5\n",
      "4\n",
      "4\n",
      "1\n",
      "13\n",
      "8\n",
      "9\n",
      "8\n",
      "8\n",
      "6\n",
      "17\n",
      "19\n",
      "13\n",
      "16\n",
      "10\n"
     ]
    }
   ],
   "source": [
    "from random import randint\n",
    "\n",
    "class Die():\n",
    "    def __init__(self,side):\n",
    "        self.side = side\n",
    "\n",
    "    def roll_die(self):\n",
    "        self.side = randint(1,20)\n",
    "        print(self.side)\n",
    "        \n",
    "for i in range(19):\n",
    "    die = Die(6)\n",
    "    die.roll_die()"
   ]
  },
  {
   "cell_type": "code",
   "execution_count": 58,
   "id": "damaged-cathedral",
   "metadata": {},
   "outputs": [
    {
     "name": "stdout",
     "output_type": "stream",
     "text": [
      "3.1415926535\n",
      "  8979323846\n",
      "  2643383279\n"
     ]
    }
   ],
   "source": [
    "with open(r\"./pi_digits.txt\") as file_object:\n",
    "    \n",
    "    for line in file_object:\n",
    "        print(line.rstrip())"
   ]
  },
  {
   "cell_type": "code",
   "execution_count": 92,
   "id": "metric-catalyst",
   "metadata": {},
   "outputs": [
    {
     "data": {
      "text/plain": [
       "'3.141592653589793238462643383279'"
      ]
     },
     "execution_count": 92,
     "metadata": {},
     "output_type": "execute_result"
    }
   ],
   "source": [
    "file = \"pi_digits.txt\"\n",
    "\n",
    "with open(file) as file_object:\n",
    "    lines = file_object.readlines()\n",
    "\n",
    "pi_str = \"\"\n",
    "for line in lines:\n",
    "    pi_str += line.strip()\n",
    "\n",
    "pi = pi_str[:50]\n",
    "\n"
   ]
  },
  {
   "cell_type": "code",
   "execution_count": 103,
   "id": "starting-absolute",
   "metadata": {},
   "outputs": [
    {
     "name": "stdout",
     "output_type": "stream",
     "text": [
      "3.1415926535\n",
      "8979323846\n",
      "2643383279\n"
     ]
    }
   ],
   "source": [
    "file = \"pi_digits.txt\"\n",
    "\n",
    "with open(file) as file_object:\n",
    "    pi = file_object.readlines()\n",
    "    for line in pi:\n",
    "        print(line.strip())\n",
    "    "
   ]
  },
  {
   "cell_type": "code",
   "execution_count": 1,
   "id": "contained-manor",
   "metadata": {},
   "outputs": [
    {
     "name": "stderr",
     "output_type": "stream",
     "text": [
      "E\n",
      "======================================================================\n",
      "ERROR: test_city_function (__main__.Citytestfunction)\n",
      "----------------------------------------------------------------------\n",
      "Traceback (most recent call last):\n",
      "  File \"<ipython-input-1-4046212a9c66>\", line 7, in test_city_function\n",
      "    cityinfo = get_city(\"wuhan\",\"china\")\n",
      "TypeError: get_city() missing 1 required positional argument: 'population'\n",
      "\n",
      "----------------------------------------------------------------------\n",
      "Ran 1 test in 0.001s\n",
      "\n",
      "FAILED (errors=1)\n"
     ]
    },
    {
     "data": {
      "text/plain": [
       "<unittest.main.TestProgram at 0x7f6b2c7c37c0>"
      ]
     },
     "execution_count": 1,
     "metadata": {},
     "output_type": "execute_result"
    }
   ],
   "source": [
    "import unittest\n",
    "from city_functions import get_city\n",
    "\n",
    "class Citytestfunction(unittest.TestCase):\n",
    "    \n",
    "    def test_city_function(self):\n",
    "        cityinfo = get_city(\"wuhan\",\"china\")\n",
    "        self.assertEqual(cityinfo,\"Wuhan,China\")\n",
    "        \n",
    "unittest.main(argv=['first-arg-is-ignored'],exit=False)"
   ]
  }
 ],
 "metadata": {
  "kernelspec": {
   "display_name": "Python 3",
   "language": "python",
   "name": "python3"
  },
  "language_info": {
   "codemirror_mode": {
    "name": "ipython",
    "version": 3
   },
   "file_extension": ".py",
   "mimetype": "text/x-python",
   "name": "python",
   "nbconvert_exporter": "python",
   "pygments_lexer": "ipython3",
   "version": "3.8.8"
  }
 },
 "nbformat": 4,
 "nbformat_minor": 5
}
