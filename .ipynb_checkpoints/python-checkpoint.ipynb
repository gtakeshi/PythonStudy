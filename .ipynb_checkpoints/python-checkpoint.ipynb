{
 "cells": [
  {
   "cell_type": "code",
   "execution_count": 7,
   "id": "transparent-pastor",
   "metadata": {},
   "outputs": [
    {
     "data": {
      "text/plain": [
       "'python'"
      ]
     },
     "execution_count": 7,
     "metadata": {},
     "output_type": "execute_result"
    }
   ],
   "source": [
    "favorite_language = 'python '\n",
    "favorite_language.rstrip()"
   ]
  },
  {
   "cell_type": "code",
   "execution_count": 2,
   "id": "color-governor",
   "metadata": {},
   "outputs": [
    {
     "name": "stdout",
     "output_type": "stream",
     "text": [
      "On branch master\n",
      "Changes not staged for commit:\n",
      "  (use \"git add <file>...\" to update what will be committed)\n",
      "  (use \"git restore <file>...\" to discard changes in working directory)\n",
      "\t\u001b[31mmodified:   .ipynb_checkpoints/python-checkpoint.ipynb\u001b[m\n",
      "\t\u001b[31mmodified:   python.ipynb\u001b[m\n",
      "\n",
      "no changes added to commit (use \"git add\" and/or \"git commit -a\")\n",
      "[master d6460b6] Extended\n",
      " 2 files changed, 33 insertions(+), 13 deletions(-)\n",
      "fatal: The current branch master has no upstream branch.\n",
      "To push the current branch and set the remote as upstream, use\n",
      "\n",
      "    git push --set-upstream origin master\n",
      "\n"
     ]
    }
   ],
   "source": [
    "!git status\n",
    "!git commit -am \"Extended\"\n",
    "!git push"
   ]
  },
  {
   "cell_type": "code",
   "execution_count": 8,
   "id": "southern-diana",
   "metadata": {},
   "outputs": [
    {
     "name": "stdout",
     "output_type": "stream",
     "text": [
      "test\n"
     ]
    }
   ],
   "source": [
    "print(\"test\")"
   ]
  },
  {
   "cell_type": "code",
   "execution_count": 15,
   "id": "fantastic-doctrine",
   "metadata": {},
   "outputs": [
    {
     "name": "stdout",
     "output_type": "stream",
     "text": [
      "Welcome Jim\n"
     ]
    }
   ],
   "source": [
    "name = \" jim\\n\\t\"\n",
    "print(\"Welcome \"+name.strip().title())"
   ]
  },
  {
   "cell_type": "code",
   "execution_count": 102,
   "id": "plastic-college",
   "metadata": {},
   "outputs": [
    {
     "name": "stdout",
     "output_type": "stream",
     "text": [
      "a\n",
      "C\n",
      "b\n"
     ]
    }
   ],
   "source": [
    "names = ['a','C','b']\n",
    "for name in names:\n",
    "    print(name)\n",
    "\n"
   ]
  },
  {
   "cell_type": "code",
   "execution_count": 113,
   "id": "amber-graham",
   "metadata": {},
   "outputs": [
    {
     "name": "stdout",
     "output_type": "stream",
     "text": [
      "[1, 27, 3125, 823543, 387420489]\n",
      "1\n",
      "388247185\n"
     ]
    }
   ],
   "source": [
    "squares = [value ** value for value in range(1,11,2)]\n",
    "\n",
    "print(squares)\n",
    "print(min(squares))\n",
    "print(sum(squares))"
   ]
  },
  {
   "cell_type": "code",
   "execution_count": 133,
   "id": "overhead-fitting",
   "metadata": {},
   "outputs": [
    {
     "name": "stdout",
     "output_type": "stream",
     "text": [
      "27\n",
      "216\n",
      "729\n",
      "1728\n",
      "3375\n",
      "5832\n",
      "9261\n",
      "13824\n",
      "19683\n",
      "27000\n"
     ]
    }
   ],
   "source": [
    "squares = [value ** 3 for value in range(3,31,3)]\n",
    "new = squares[:]\n",
    "squares.insert(2,\"3\")\n",
    "for num in new:\n",
    "    print(num)"
   ]
  },
  {
   "cell_type": "code",
   "execution_count": 15,
   "id": "suited-township",
   "metadata": {},
   "outputs": [
    {
     "name": "stdout",
     "output_type": "stream",
     "text": [
      "1\n",
      "3\n",
      "4\n",
      "<generator object <genexpr> at 0x7fa494e46e40>\n"
     ]
    }
   ],
   "source": [
    "dim = (1,2,3)\n",
    "dim\n",
    "dim = (1,3,4)\n",
    "for v in dim :\n",
    "    print(v)\n",
    "print(value for value in range(1,10))"
   ]
  },
  {
   "cell_type": "code",
   "execution_count": 42,
   "id": "prompt-pathology",
   "metadata": {},
   "outputs": [
    {
     "name": "stdout",
     "output_type": "stream",
     "text": [
      "a Same\n",
      "b Same\n"
     ]
    }
   ],
   "source": [
    "Login = \"Admin\"\n",
    "current_users = [\"Admin\",\"A\",\"b\",\"c\"]\n",
    "new_users = [\"a\",\"b\",\"d\",\"e\"]\n",
    "for nuser in new_users:\n",
    "    if nuser.lower() in (var.lower() for var in current_users):  #列表解析非常有用\n",
    "        print(nuser + \" Same\")"
   ]
  },
  {
   "cell_type": "code",
   "execution_count": 70,
   "id": "confirmed-story",
   "metadata": {},
   "outputs": [
    {
     "name": "stdout",
     "output_type": "stream",
     "text": [
      "Value: Blue\n",
      "\n",
      "Value: 15\n",
      "\n",
      "Value: Male\n",
      "\n",
      "Value: Jim\n",
      "\n"
     ]
    }
   ],
   "source": [
    "Jim = {\"Name\":\"Jim\",\"Sex\":\"Male\",\"Age\":15,\"Num\":15}\n",
    "Jim[\"Team\"]=\"Blue\"\n",
    "for v in set(Jim.values()):\n",
    "   \n",
    "    print(\"Value: \"+ str(v) + \"\\n\")"
   ]
  },
  {
   "cell_type": "code",
   "execution_count": 83,
   "id": "stretch-footwear",
   "metadata": {},
   "outputs": [
    {
     "name": "stdout",
     "output_type": "stream",
     "text": [
      "Thank you A\n",
      "Thank you B\n",
      "Thank you C\n",
      "Hope you join my AN, D\n"
     ]
    }
   ],
   "source": [
    "AN = {\n",
    "    \"A\":\"Yes\",\n",
    "    \"B\":\"No\",\n",
    "    \"C\":\"Yes\"\n",
    "    }\n",
    "Users = [\"A\",\"B\",\"C\",\"D\"]\n",
    "for User in Users:\n",
    "    if User in (ANU for ANU in AN.keys()):\n",
    "        print(\"Thank you \"+User)\n",
    "    else:\n",
    "        print(\"Hope you join my AN, \"+User)"
   ]
  },
  {
   "cell_type": "code",
   "execution_count": null,
   "id": "accompanied-supplement",
   "metadata": {},
   "outputs": [],
   "source": []
  },
  {
   "cell_type": "code",
   "execution_count": 96,
   "id": "going-setup",
   "metadata": {},
   "outputs": [
    {
     "name": "stdout",
     "output_type": "stream",
     "text": [
      "{'color': 'yellow', 'points': 5, 'speed': 'slow'}\n",
      "{'color': 'yellow', 'points': 5, 'speed': 'slow'}\n",
      "{'color': 'yellow', 'points': 5, 'speed': 'slow'}\n",
      "{'color': 'green', 'points': 5, 'speed': 'slow'}\n",
      "{'color': 'green', 'points': 5, 'speed': 'slow'}\n",
      "{'color': 'green', 'points': 5, 'speed': 'slow'}\n",
      "{'color': 'green', 'points': 5, 'speed': 'slow'}\n",
      "{'color': 'green', 'points': 5, 'speed': 'slow'}\n",
      "{'color': 'green', 'points': 5, 'speed': 'slow'}\n",
      "{'color': 'green', 'points': 5, 'speed': 'slow'}\n",
      "{'color': 'green', 'points': 5, 'speed': 'slow'}\n",
      "{'color': 'green', 'points': 5, 'speed': 'slow'}\n",
      "{'color': 'green', 'points': 5, 'speed': 'slow'}\n",
      "{'color': 'green', 'points': 5, 'speed': 'slow'}\n",
      "{'color': 'green', 'points': 5, 'speed': 'slow'}\n",
      "{'color': 'green', 'points': 5, 'speed': 'slow'}\n",
      "{'color': 'green', 'points': 5, 'speed': 'slow'}\n",
      "{'color': 'green', 'points': 5, 'speed': 'slow'}\n",
      "{'color': 'green', 'points': 5, 'speed': 'slow'}\n",
      "{'color': 'green', 'points': 5, 'speed': 'slow'}\n",
      "{'color': 'green', 'points': 5, 'speed': 'slow'}\n",
      "{'color': 'green', 'points': 5, 'speed': 'slow'}\n",
      "{'color': 'green', 'points': 5, 'speed': 'slow'}\n",
      "{'color': 'green', 'points': 5, 'speed': 'slow'}\n",
      "{'color': 'green', 'points': 5, 'speed': 'slow'}\n",
      "{'color': 'green', 'points': 5, 'speed': 'slow'}\n",
      "{'color': 'green', 'points': 5, 'speed': 'slow'}\n",
      "{'color': 'green', 'points': 5, 'speed': 'slow'}\n",
      "{'color': 'green', 'points': 5, 'speed': 'slow'}\n",
      "{'color': 'green', 'points': 5, 'speed': 'slow'}\n",
      "30\n"
     ]
    }
   ],
   "source": [
    "aliens = []\n",
    "for alien_number in range(30):\n",
    "    new_alien = {\"color\":\"green\",\"points\":5,\"speed\":\"slow\"}\n",
    "    aliens.append(new_alien)\n",
    "\n",
    "for alien in aliens[0:3]:\n",
    "    if alien[\"color\"] == \"green\":\n",
    "        alien[\"color\"] = \"yellow\"\n",
    "\n",
    "for alien in aliens:\n",
    "    print(alien)\n",
    "\n",
    "print(len(aliens))"
   ]
  },
  {
   "cell_type": "code",
   "execution_count": 115,
   "id": "coordinated-underwear",
   "metadata": {},
   "outputs": [
    {
     "name": "stdout",
     "output_type": "stream",
     "text": [
      "Jen's favorite lang is \n",
      "\tPython\n",
      "\tRuby\n",
      "Sarah's favorite lang is \n",
      "\tC\n"
     ]
    }
   ],
   "source": [
    "favorite_languages ={\n",
    "    'jen':[\"python\",\"ruby\"],\n",
    "    \"sarah\":[\"c\"]\n",
    "}\n",
    "\n",
    "for name,lang in favorite_languages.items():\n",
    "    print(name.title()+\"'s favorite lang is \")\n",
    "    for lan in lang:\n",
    "        print(\"\\t\"+lan.title())\n",
    "    "
   ]
  },
  {
   "cell_type": "code",
   "execution_count": 126,
   "id": "enabling-security",
   "metadata": {},
   "outputs": [
    {
     "name": "stdout",
     "output_type": "stream",
     "text": [
      "Username: Jim\n",
      "\tName: Jim einstein\n",
      "\tLocation: China\n",
      "Username: Tom\n",
      "\tName: Tom curie\n",
      "\tLocation: Japan\n"
     ]
    }
   ],
   "source": [
    "users = {\n",
    "    \"Jim\":{\n",
    "        \"first\":\"Jim\",\n",
    "        \"last\":\"einstein\",\n",
    "        \"location\":\"China\"\n",
    "    },\n",
    "    \n",
    "    \"Tom\":{\n",
    "        \"first\":\"Tom\",\n",
    "        \"last\":\"curie\",\n",
    "        \"location\":\"Japan\"\n",
    "    }\n",
    "}\n",
    "\n",
    "for name,info in users.items():\n",
    "    print(\"Username: \"+name)\n",
    "    print(\"\\tName: \"+info[\"first\"]+\" \"+info[\"last\"]+\n",
    "          \"\\n\\tLocation: \"+info[\"location\"])\n",
    "    "
   ]
  },
  {
   "cell_type": "code",
   "execution_count": 130,
   "id": "natural-industry",
   "metadata": {},
   "outputs": [
    {
     "name": "stdout",
     "output_type": "stream",
     "text": [
      "Tell\n",
      "me\n",
      "3\n",
      "4\n"
     ]
    }
   ],
   "source": [
    "tips = \"Tell\"\n",
    "tips += \"\\nme\\n\"\n",
    "message = int(input(tips))\n",
    "message += 1\n",
    "print(message)"
   ]
  },
  {
   "cell_type": "code",
   "execution_count": 139,
   "id": "polished-aquatic",
   "metadata": {},
   "outputs": [
    {
     "name": "stdout",
     "output_type": "stream",
     "text": [
      "fe\n",
      "fe\n",
      "quit\n"
     ]
    }
   ],
   "source": [
    "message = \"\"\n",
    "while True:\n",
    "    message = input()\n",
    "    if message != \"quit\":\n",
    "        print(message)\n",
    "    else:\n",
    "        break"
   ]
  },
  {
   "cell_type": "code",
   "execution_count": 146,
   "id": "norwegian-journey",
   "metadata": {},
   "outputs": [
    {
     "name": "stdout",
     "output_type": "stream",
     "text": [
      "Please add your topppingsquit\n",
      "[]\n"
     ]
    }
   ],
   "source": [
    "toppings = []\n",
    "Switch = True\n",
    "while Switch:\n",
    "    top = input(\"Please add your topppings\")\n",
    "    if top != \"quit\":\n",
    "        toppings.append(top)\n",
    "    else:\n",
    "        break\n",
    "\n",
    "print(toppings)\n",
    "    "
   ]
  },
  {
   "cell_type": "code",
   "execution_count": 152,
   "id": "revised-uruguay",
   "metadata": {},
   "outputs": [
    {
     "name": "stdout",
     "output_type": "stream",
     "text": [
      "b\n",
      "a\n"
     ]
    }
   ],
   "source": [
    "un = [\"a\",\"b\"]\n",
    "new = []\n",
    "\n",
    "while un:\n",
    "    \n",
    "    new.append(un.pop())\n",
    "    \n",
    "for user in new:\n",
    "    print(user)"
   ]
  },
  {
   "cell_type": "code",
   "execution_count": 153,
   "id": "packed-builder",
   "metadata": {},
   "outputs": [
    {
     "name": "stdout",
     "output_type": "stream",
     "text": [
      "b\n"
     ]
    }
   ],
   "source": [
    "un = [\"a\",\"b\",\"a\"]\n",
    "new = []\n",
    "\n",
    "while \"a\" in un:\n",
    "    \n",
    "    un.remove(\"a\")\n",
    "    \n",
    "for user in un:\n",
    "    print(user)"
   ]
  },
  {
   "cell_type": "code",
   "execution_count": 157,
   "id": "occupational-football",
   "metadata": {},
   "outputs": [
    {
     "name": "stdout",
     "output_type": "stream",
     "text": [
      "What your name ?Jim\n",
      "Which place do you want to visit ?China\n",
      "Would you like to let another person respond?yes\n",
      "What your name ?Tom\n",
      "Which place do you want to visit ?Japan\n",
      "Would you like to let another person respond?no\n",
      "Jim wants to go visit China\n",
      "Tom wants to go visit Japan\n"
     ]
    }
   ],
   "source": [
    "questionnaire = {}\n",
    "\n",
    "cont = True\n",
    "while cont:\n",
    "    name = input(\"What your name ?\")\n",
    "    place = input(\"Which place do you want to visit ?\")\n",
    "    \n",
    "    questionnaire[name] = place \n",
    "    \n",
    "    if (input(\"Would you like to let another person respond?\") == \"no\"):\n",
    "        cont = False\n",
    "        #TODO \n",
    "for name,place in questionnaire.items():\n",
    "    print(name +\" wants to go visit \"+place )\n",
    "        "
   ]
  },
  {
   "cell_type": "code",
   "execution_count": 14,
   "id": "infectious-aside",
   "metadata": {},
   "outputs": [
    {
     "name": "stdout",
     "output_type": "stream",
     "text": [
      "hello TOM Ball\n"
     ]
    }
   ],
   "source": [
    "def greet_user(username,thing = \"Ball\"):\n",
    "    print(\"hello \"+ username+\" \"+thing)\n",
    "    \n",
    "greet_user( \"TOM\")"
   ]
  },
  {
   "cell_type": "code",
   "execution_count": 63,
   "id": "elementary-roman",
   "metadata": {},
   "outputs": [
    {
     "name": "stdout",
     "output_type": "stream",
     "text": [
      "Jimi Hendrix is 23 years old\n",
      "Tom Hooker\n"
     ]
    }
   ],
   "source": [
    "list = []\n",
    "\n",
    "def build_person(first_name,last_name,age=\"\"):\n",
    "    if age:\n",
    "        person = {\"first\":first_name.title(),\"last\":last_name.title(),\"age\":age}\n",
    "    else:\n",
    "        person = {\"first\":first_name.title(),\"last\":last_name.title()}\n",
    "    list.append(person)\n",
    "    \n",
    "build_person(\"jimi\",\"hendrix\",23)\n",
    "build_person(\"tom\",\"hooker\")\n",
    "\n",
    "for persondic in list:\n",
    "    \n",
    "    if \"age\" in persondic:    #!!!!!!!!!!!!! Use \"in\"\n",
    "        print(persondic[\"first\"]+\" \"+persondic[\"last\"]+\" is \" +str(persondic[\"age\"]) + \" years old\")\n",
    "    else:\n",
    "        print(persondic[\"first\"]+\" \"+persondic[\"last\"])"
   ]
  },
  {
   "cell_type": "code",
   "execution_count": 93,
   "id": "apparent-michael",
   "metadata": {},
   "outputs": [
    {
     "name": "stdout",
     "output_type": "stream",
     "text": [
      "Tom\n",
      "Bob\n",
      "Jim\n",
      "the Great Tom\n",
      "the Great Bob\n",
      "the Great Jim\n"
     ]
    }
   ],
   "source": [
    "def show_magicians(magics):\n",
    "    for magician in magics:\n",
    "        print(magician)\n",
    "        \n",
    "def make_great(magics):\n",
    "    for i in range(0,len(magics)):\n",
    "        magics[i] = \"the Great \"+ magics[i]\n",
    "    return magics\n",
    "magicians = [\"Tom\",\"Bob\",\"Jim\"]\n",
    "magics = make_great(magicians[:])\n",
    "show_magicians(magicians)\n",
    "show_magicians(magics)\n",
    "\n"
   ]
  },
  {
   "cell_type": "code",
   "execution_count": 94,
   "id": "absolute-twelve",
   "metadata": {},
   "outputs": [
    {
     "name": "stdout",
     "output_type": "stream",
     "text": [
      "Tom\n",
      "Bob\n",
      "Jim\n",
      "the Great Tom\n",
      "the Great Bob\n",
      "the Great Jim\n"
     ]
    }
   ],
   "source": [
    "def show_magicians(*magics):   #相当于指针\n",
    "    for magic in magics:\n",
    "        for magician in magic:\n",
    "            print(magician)\n",
    "        \n",
    "def make_great(magics):\n",
    "    for i in range(0,len(magics)):\n",
    "        magics[i] = \"the Great \"+ magics[i]\n",
    "    return magics\n",
    "magicians = [\"Tom\",\"Bob\",\"Jim\"]\n",
    "magics = make_great(magicians[:])\n",
    "show_magicians(magicians)\n",
    "show_magicians(magics)\n",
    "\n"
   ]
  },
  {
   "cell_type": "code",
   "execution_count": 99,
   "id": "incorporated-homeless",
   "metadata": {},
   "outputs": [
    {
     "name": "stdout",
     "output_type": "stream",
     "text": [
      "-a\n",
      "\n",
      "\n",
      "-a\n",
      "-b\n",
      "\n",
      "\n"
     ]
    }
   ],
   "source": [
    "def pizza(*toppings):\n",
    "    for topping in toppings:\n",
    "        print(\"-\"+topping)\n",
    "    print(\"\\n\")\n",
    "pizza(\"a\")\n",
    "pizza(\"a\",\"b\")"
   ]
  },
  {
   "cell_type": "code",
   "execution_count": 111,
   "id": "verified-victim",
   "metadata": {},
   "outputs": [
    {
     "name": "stdout",
     "output_type": "stream",
     "text": [
      "[{'first_name': 'albert', 'last_name': 'einstein', 'location': 'princeton', 'field': 'physics'}, {'first_name': 'Smith', 'last_name': 'Jim', 'location': 'Japan', 'field': 'IT'}]\n"
     ]
    }
   ],
   "source": [
    "list = []\n",
    "def build_profile(first,last,**user_info):\n",
    "    profile={}\n",
    "    profile[\"first_name\"] = first\n",
    "    profile[\"last_name\"] = last\n",
    "    for key,value in user_info.items():\n",
    "        profile[key] = value\n",
    "    return profile\n",
    "\n",
    "\n",
    "user_profile = build_profile(\"albert\",\"einstein\",\n",
    "                            location = \"princeton\",\n",
    "                            field = \"physics\")\n",
    "\n",
    "my_profile = build_profile(\"Smith\",\"Jim\",\n",
    "                          location=\"Japan\",\n",
    "                          field = \"IT\")\n",
    "\n",
    "list.append(user_profile)\n",
    "list.append(my_profile)\n",
    "print(list)"
   ]
  },
  {
   "cell_type": "code",
   "execution_count": 114,
   "id": "strange-penny",
   "metadata": {},
   "outputs": [
    {
     "name": "stdout",
     "output_type": "stream",
     "text": [
      "{'maker': 'subaru', 'serial': 'outback', 'color': 'blue', 'tow_package': True}\n"
     ]
    }
   ],
   "source": [
    "def make_car(maker,serial,**info):\n",
    "    car = {}\n",
    "    car = {\n",
    "        \"maker\":maker,\n",
    "        \"serial\":serial,\n",
    "    }\n",
    "    for k,v in info.items():\n",
    "            car[k] = v  \n",
    "    return car\n",
    "    \n",
    "car = make_car(\"subaru\",\"outback\",color=\"blue\",tow_package=True)\n",
    "print(car)"
   ]
  },
  {
   "cell_type": "code",
   "execution_count": 119,
   "id": "touched-apparel",
   "metadata": {},
   "outputs": [
    {
     "data": {
      "text/plain": [
       "'jim'"
      ]
     },
     "execution_count": 119,
     "metadata": {},
     "output_type": "execute_result"
    }
   ],
   "source": [
    "class Dog():\n",
    "    \n",
    "    def __init__(self,name,age):\n",
    "        self.name = name\n",
    "        self.age = age\n",
    "        \n",
    "    def sit(self):\n",
    "        print(self.name.title()+\" is now sitting\")\n",
    "        \n",
    "    def roll_over(self):\n",
    "        print(self.name.title()+\" rolled over\")\n",
    "        \n",
    "my_dog = Dog(\"jim\",5)\n",
    "my_dog.name"
   ]
  },
  {
   "cell_type": "code",
   "execution_count": 143,
   "id": "ethical-coordinate",
   "metadata": {},
   "outputs": [
    {
     "name": "stdout",
     "output_type": "stream",
     "text": [
      "Vanilia\n",
      "Choclate\n",
      "Strewbrew\n"
     ]
    }
   ],
   "source": [
    "class Restaurant():\n",
    "    \n",
    "    def __init__(self,restaurant_name,cuisine_type):\n",
    "        self.restaurant_name = restaurant_name\n",
    "        self.cuisine_type = cuisine_type\n",
    "        self.number_served = 0\n",
    "        \n",
    "    def describe_restaurant(self):\n",
    "        print(self.restaurant_name.title()+\" is a \"+self.cuisine_type+\" restaurant\")\n",
    "        \n",
    "    def open_restaurant(self):\n",
    "        print(self.restaurant_name.title()+\" is opening now\")\n",
    "    \n",
    "    def set_number_served(self,num):\n",
    "        self.number_served = num\n",
    "        \n",
    "    def increment_number_served(self,num):\n",
    "        self.number_served += num    \n",
    "        \n",
    "class IceCreamStand(Restaurant):\n",
    "\n",
    "    def __init__(self,restaurant_name,cuisine_type):\n",
    "        super().__init__(restaurant_name,cuisine_type)\n",
    "        self.flavor = Flavor()     # Important\n",
    "        \n",
    "class Flavor():\n",
    "    def __init__(self):\n",
    "        self.flavors = [\"Vanilia\",\"Choclate\",\"Strewbrew\"]\n",
    "        \n",
    "    def show_flavors(self):\n",
    "        for flavor in self.flavors:\n",
    "            print(flavor)\n",
    "            \n",
    "ice_stand = IceCreamStand(\"Jim Ice\",\"IceCream\")  \n",
    "ice_stand.flavor.show_flavors()\n"
   ]
  },
  {
   "cell_type": "code",
   "execution_count": null,
   "id": "dirty-chile",
   "metadata": {},
   "outputs": [],
   "source": [
    "class IceCreamStand(Restaurant):\n",
    "\n",
    "    def __init__(self,restaurant_name,cuisine_type):\n",
    "        super().__init__(restaurant_name,cuisine_type)\n",
    "        self.flavor = Flavor()     # Important\n",
    "        \n",
    "class Flavor():\n",
    "    def __init__(self):\n",
    "        self.flavors = [\"Vanilia\",\"Choclate\",\"Strewbrew\"]\n",
    "        \n",
    "    def show_flavors(self):\n",
    "        for flavor in self.flavors:\n",
    "            print(flavor)\n",
    "            \n",
    "ice_stand = IceCreamStand(\"Jim Ice\",\"IceCream\")  \n",
    "ice_stand.flavor.show_flavors()"
   ]
  }
 ],
 "metadata": {
  "kernelspec": {
   "display_name": "Python 3",
   "language": "python",
   "name": "python3"
  },
  "language_info": {
   "codemirror_mode": {
    "name": "ipython",
    "version": 3
   },
   "file_extension": ".py",
   "mimetype": "text/x-python",
   "name": "python",
   "nbconvert_exporter": "python",
   "pygments_lexer": "ipython3",
   "version": "3.8.8"
  }
 },
 "nbformat": 4,
 "nbformat_minor": 5
}
